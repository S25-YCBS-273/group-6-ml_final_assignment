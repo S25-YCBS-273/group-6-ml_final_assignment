{
 "cells": [
  {
   "cell_type": "markdown",
   "metadata": {
    "jp-MarkdownHeadingCollapsed": true
   },
   "source": [
    "# Prérequis"
   ]
  },
  {
   "cell_type": "code",
   "execution_count": 130,
   "metadata": {},
   "outputs": [
    {
     "name": "stdout",
     "output_type": "stream",
     "text": [
      "Collecting xgboost\n",
      "  Using cached xgboost-3.0.2-py3-none-macosx_12_0_arm64.whl.metadata (2.1 kB)\n",
      "Requirement already satisfied: numpy in /Library/Frameworks/Python.framework/Versions/3.11/lib/python3.11/site-packages (from xgboost) (2.2.5)\n",
      "Requirement already satisfied: scipy in /Library/Frameworks/Python.framework/Versions/3.11/lib/python3.11/site-packages (from xgboost) (1.15.3)\n",
      "Using cached xgboost-3.0.2-py3-none-macosx_12_0_arm64.whl (2.0 MB)\n",
      "Installing collected packages: xgboost\n",
      "Successfully installed xgboost-3.0.2\n"
     ]
    }
   ],
   "source": [
    "import sys\n",
    "!{sys.executable} -m pip install xgboost"
   ]
  },
  {
   "cell_type": "code",
   "execution_count": 132,
   "metadata": {},
   "outputs": [],
   "source": [
    "# Data Manipulation\n",
    "import pandas as pd\n",
    "import numpy as np\n",
    "\n",
    "# Visualisation\n",
    "import matplotlib.pyplot as plt\n",
    "import seaborn as sns\n",
    "\n",
    "# Data preparation\n",
    "from sklearn.model_selection import train_test_split\n",
    "from sklearn.preprocessing import StandardScaler\n",
    "\n",
    "# Modelisation\n",
    "from sklearn.linear_model import LinearRegression\n",
    "from sklearn.tree import DecisionTreeRegressor\n",
    "from sklearn.svm import SVR\n",
    "from xgboost import XGBRegressor\n",
    "\n",
    "# Evaluation\n",
    "from sklearn.metrics import mean_squared_error, mean_absolute_error, r2_score"
   ]
  },
  {
   "cell_type": "markdown",
   "metadata": {},
   "source": [
    "# Data Preparation\n",
    "\n",
    "In this section, we transform and prepare the raw NVIDIA stock data for modeling. Key steps include:\n",
    "\n",
    "- **Date formatting and sorting**: Ensuring time consistency\n",
    "- **Missing value inspection**: Ensuring data integrity\n",
    "- **Feature engineering**:\n",
    "  - Lag features (`Close_Lag1`, `Close_Lag2`)\n",
    "  - Moving averages (`MA5`, `MA10`)\n",
    "- **Cleaning**: Dropping rows with NaN caused by lag/moving averages\n",
    "- **Train-test split**: Chronologically separating 80% for training and 20% for testing\n",
    "- **Scaling**: Standardizing features to optimize model convergence (important for linear models and SVM)\n",
    "\n",
    "These steps ensure our data is chronologically valid, informative, and ready for ML.\n"
   ]
  },
  {
   "cell_type": "code",
   "execution_count": 69,
   "metadata": {},
   "outputs": [],
   "source": [
    "df = pd.read_csv(\"Nvidia_stock_data.csv\")"
   ]
  },
  {
   "cell_type": "code",
   "execution_count": 70,
   "metadata": {},
   "outputs": [
    {
     "name": "stdout",
     "output_type": "stream",
     "text": [
      "<class 'pandas.core.frame.DataFrame'>\n",
      "RangeIndex: 6637 entries, 0 to 6636\n",
      "Data columns (total 6 columns):\n",
      " #   Column  Non-Null Count  Dtype  \n",
      "---  ------  --------------  -----  \n",
      " 0   Date    6637 non-null   object \n",
      " 1   Close   6637 non-null   float64\n",
      " 2   High    6637 non-null   float64\n",
      " 3   Low     6637 non-null   float64\n",
      " 4   Open    6637 non-null   float64\n",
      " 5   Volume  6637 non-null   int64  \n",
      "dtypes: float64(4), int64(1), object(1)\n",
      "memory usage: 311.2+ KB\n",
      "None\n"
     ]
    }
   ],
   "source": [
    "print(df.info())"
   ]
  },
  {
   "cell_type": "code",
   "execution_count": 71,
   "metadata": {},
   "outputs": [
    {
     "data": {
      "text/html": [
       "<div>\n",
       "<style scoped>\n",
       "    .dataframe tbody tr th:only-of-type {\n",
       "        vertical-align: middle;\n",
       "    }\n",
       "\n",
       "    .dataframe tbody tr th {\n",
       "        vertical-align: top;\n",
       "    }\n",
       "\n",
       "    .dataframe thead th {\n",
       "        text-align: right;\n",
       "    }\n",
       "</style>\n",
       "<table border=\"1\" class=\"dataframe\">\n",
       "  <thead>\n",
       "    <tr style=\"text-align: right;\">\n",
       "      <th></th>\n",
       "      <th>Date</th>\n",
       "      <th>Close</th>\n",
       "      <th>High</th>\n",
       "      <th>Low</th>\n",
       "      <th>Open</th>\n",
       "      <th>Volume</th>\n",
       "    </tr>\n",
       "  </thead>\n",
       "  <tbody>\n",
       "    <tr>\n",
       "      <th>0</th>\n",
       "      <td>1999-01-22</td>\n",
       "      <td>0.037612</td>\n",
       "      <td>0.044775</td>\n",
       "      <td>0.035581</td>\n",
       "      <td>0.040119</td>\n",
       "      <td>2714688000</td>\n",
       "    </tr>\n",
       "    <tr>\n",
       "      <th>1</th>\n",
       "      <td>1999-01-25</td>\n",
       "      <td>0.041552</td>\n",
       "      <td>0.042029</td>\n",
       "      <td>0.037612</td>\n",
       "      <td>0.040597</td>\n",
       "      <td>510480000</td>\n",
       "    </tr>\n",
       "    <tr>\n",
       "      <th>2</th>\n",
       "      <td>1999-01-26</td>\n",
       "      <td>0.038328</td>\n",
       "      <td>0.042865</td>\n",
       "      <td>0.037731</td>\n",
       "      <td>0.042029</td>\n",
       "      <td>343200000</td>\n",
       "    </tr>\n",
       "    <tr>\n",
       "      <th>3</th>\n",
       "      <td>1999-01-27</td>\n",
       "      <td>0.038209</td>\n",
       "      <td>0.039403</td>\n",
       "      <td>0.036298</td>\n",
       "      <td>0.038447</td>\n",
       "      <td>244368000</td>\n",
       "    </tr>\n",
       "    <tr>\n",
       "      <th>4</th>\n",
       "      <td>1999-01-28</td>\n",
       "      <td>0.038089</td>\n",
       "      <td>0.038447</td>\n",
       "      <td>0.037850</td>\n",
       "      <td>0.038209</td>\n",
       "      <td>227520000</td>\n",
       "    </tr>\n",
       "  </tbody>\n",
       "</table>\n",
       "</div>"
      ],
      "text/plain": [
       "         Date     Close      High       Low      Open      Volume\n",
       "0  1999-01-22  0.037612  0.044775  0.035581  0.040119  2714688000\n",
       "1  1999-01-25  0.041552  0.042029  0.037612  0.040597   510480000\n",
       "2  1999-01-26  0.038328  0.042865  0.037731  0.042029   343200000\n",
       "3  1999-01-27  0.038209  0.039403  0.036298  0.038447   244368000\n",
       "4  1999-01-28  0.038089  0.038447  0.037850  0.038209   227520000"
      ]
     },
     "execution_count": 71,
     "metadata": {},
     "output_type": "execute_result"
    }
   ],
   "source": [
    "df.head()"
   ]
  },
  {
   "cell_type": "code",
   "execution_count": 109,
   "metadata": {},
   "outputs": [],
   "source": [
    "df = df.sort_values('Date').reset_index(drop=True)\n",
    "\n",
    "target = 'Close'\n",
    "split_index = int(len(df) * 0.8)\n",
    "\n",
    "df_train = df.iloc[:split_index].copy()\n",
    "df_test = df.iloc[split_index:].copy()"
   ]
  },
  {
   "cell_type": "code",
   "execution_count": 110,
   "metadata": {},
   "outputs": [
    {
     "name": "stdout",
     "output_type": "stream",
     "text": [
      "<class 'pandas.core.frame.DataFrame'>\n",
      "RangeIndex: 6637 entries, 0 to 6636\n",
      "Data columns (total 13 columns):\n",
      " #   Column            Non-Null Count  Dtype         \n",
      "---  ------            --------------  -----         \n",
      " 0   Date              6637 non-null   datetime64[ns]\n",
      " 1   Close             6637 non-null   float64       \n",
      " 2   High              6637 non-null   float64       \n",
      " 3   Low               6637 non-null   float64       \n",
      " 4   Open              6637 non-null   float64       \n",
      " 5   Volume            6637 non-null   int64         \n",
      " 6   Close_Lag1        6636 non-null   float64       \n",
      " 7   Close_Lag2        6635 non-null   float64       \n",
      " 8   MA5               6633 non-null   float64       \n",
      " 9   MA10              6628 non-null   float64       \n",
      " 10  Daily_Return_Pct  6636 non-null   float64       \n",
      " 11  Volatility        6637 non-null   float64       \n",
      " 12  Volume_Change     6636 non-null   float64       \n",
      "dtypes: datetime64[ns](1), float64(11), int64(1)\n",
      "memory usage: 674.2 KB\n",
      "None\n"
     ]
    }
   ],
   "source": [
    "print(df.info())"
   ]
  },
  {
   "cell_type": "code",
   "execution_count": 134,
   "metadata": {},
   "outputs": [],
   "source": [
    "df = df.sort_values('Date').reset_index(drop=True)\n",
    "df['Target_Close_Next_Day'] = df['Close'].shift(-1)\n",
    "\n",
    "# Créer des features basées sur les valeurs actuelles\n",
    "df['Close_Lag1'] = df['Close'].shift(1)\n",
    "df['Close_Lag2'] = df['Close'].shift(2)\n",
    "df['MA5'] = df['Close'].rolling(window=5).mean()\n",
    "df['MA10'] = df['Close'].rolling(window=10).mean()\n",
    "df['Daily_Return_Pct'] = df['Close'].pct_change() * 100\n",
    "df['Volatility'] = df['High'] - df['Low']\n",
    "df['Volume_Change'] = df['Volume'].diff()\n",
    "\n",
    "df_clean = df.dropna().reset_index(drop=True)"
   ]
  },
  {
   "cell_type": "code",
   "execution_count": 135,
   "metadata": {},
   "outputs": [
    {
     "name": "stdout",
     "output_type": "stream",
     "text": [
      "Date                     0\n",
      "Close                    0\n",
      "High                     0\n",
      "Low                      0\n",
      "Open                     0\n",
      "Volume                   0\n",
      "Close_Lag1               0\n",
      "Close_Lag2               0\n",
      "MA5                      0\n",
      "MA10                     0\n",
      "Daily_Return_Pct         0\n",
      "Volatility               0\n",
      "Volume_Change            0\n",
      "Target_Close_Next_Day    0\n",
      "dtype: int64\n"
     ]
    }
   ],
   "source": [
    "print(df_clean.isnull().sum())"
   ]
  },
  {
   "cell_type": "code",
   "execution_count": 97,
   "metadata": {},
   "outputs": [
    {
     "data": {
      "text/html": [
       "<div>\n",
       "<style scoped>\n",
       "    .dataframe tbody tr th:only-of-type {\n",
       "        vertical-align: middle;\n",
       "    }\n",
       "\n",
       "    .dataframe tbody tr th {\n",
       "        vertical-align: top;\n",
       "    }\n",
       "\n",
       "    .dataframe thead th {\n",
       "        text-align: right;\n",
       "    }\n",
       "</style>\n",
       "<table border=\"1\" class=\"dataframe\">\n",
       "  <thead>\n",
       "    <tr style=\"text-align: right;\">\n",
       "      <th></th>\n",
       "      <th>Date</th>\n",
       "      <th>Close</th>\n",
       "      <th>High</th>\n",
       "      <th>Low</th>\n",
       "      <th>Open</th>\n",
       "      <th>Volume</th>\n",
       "      <th>Close_Lag1</th>\n",
       "      <th>Close_Lag2</th>\n",
       "      <th>MA5</th>\n",
       "      <th>MA10</th>\n",
       "      <th>Daily_Return_Pct</th>\n",
       "      <th>Volatility</th>\n",
       "      <th>Volume_Change</th>\n",
       "    </tr>\n",
       "  </thead>\n",
       "  <tbody>\n",
       "    <tr>\n",
       "      <th>0</th>\n",
       "      <td>1999-02-04</td>\n",
       "      <td>0.036775</td>\n",
       "      <td>0.037731</td>\n",
       "      <td>0.034865</td>\n",
       "      <td>0.035343</td>\n",
       "      <td>181920000</td>\n",
       "      <td>0.034865</td>\n",
       "      <td>0.034149</td>\n",
       "      <td>0.035820</td>\n",
       "      <td>0.037289</td>\n",
       "      <td>5.478617</td>\n",
       "      <td>0.002866</td>\n",
       "      <td>106800000.0</td>\n",
       "    </tr>\n",
       "    <tr>\n",
       "      <th>1</th>\n",
       "      <td>1999-02-05</td>\n",
       "      <td>0.037850</td>\n",
       "      <td>0.038209</td>\n",
       "      <td>0.036418</td>\n",
       "      <td>0.037372</td>\n",
       "      <td>136848000</td>\n",
       "      <td>0.036775</td>\n",
       "      <td>0.034865</td>\n",
       "      <td>0.036131</td>\n",
       "      <td>0.037313</td>\n",
       "      <td>2.922367</td>\n",
       "      <td>0.001791</td>\n",
       "      <td>-45072000.0</td>\n",
       "    </tr>\n",
       "    <tr>\n",
       "      <th>2</th>\n",
       "      <td>1999-02-08</td>\n",
       "      <td>0.036537</td>\n",
       "      <td>0.038209</td>\n",
       "      <td>0.036537</td>\n",
       "      <td>0.038089</td>\n",
       "      <td>154080000</td>\n",
       "      <td>0.037850</td>\n",
       "      <td>0.036775</td>\n",
       "      <td>0.036035</td>\n",
       "      <td>0.036811</td>\n",
       "      <td>-3.469341</td>\n",
       "      <td>0.001672</td>\n",
       "      <td>17232000.0</td>\n",
       "    </tr>\n",
       "    <tr>\n",
       "      <th>3</th>\n",
       "      <td>1999-02-09</td>\n",
       "      <td>0.035104</td>\n",
       "      <td>0.037492</td>\n",
       "      <td>0.034626</td>\n",
       "      <td>0.037253</td>\n",
       "      <td>86976000</td>\n",
       "      <td>0.036537</td>\n",
       "      <td>0.037850</td>\n",
       "      <td>0.036226</td>\n",
       "      <td>0.036489</td>\n",
       "      <td>-3.922758</td>\n",
       "      <td>0.002866</td>\n",
       "      <td>-67104000.0</td>\n",
       "    </tr>\n",
       "    <tr>\n",
       "      <th>4</th>\n",
       "      <td>1999-02-10</td>\n",
       "      <td>0.034746</td>\n",
       "      <td>0.036059</td>\n",
       "      <td>0.034149</td>\n",
       "      <td>0.035104</td>\n",
       "      <td>148224000</td>\n",
       "      <td>0.035104</td>\n",
       "      <td>0.036537</td>\n",
       "      <td>0.036202</td>\n",
       "      <td>0.036143</td>\n",
       "      <td>-1.018764</td>\n",
       "      <td>0.001910</td>\n",
       "      <td>61248000.0</td>\n",
       "    </tr>\n",
       "  </tbody>\n",
       "</table>\n",
       "</div>"
      ],
      "text/plain": [
       "        Date     Close      High       Low      Open     Volume  Close_Lag1  \\\n",
       "0 1999-02-04  0.036775  0.037731  0.034865  0.035343  181920000    0.034865   \n",
       "1 1999-02-05  0.037850  0.038209  0.036418  0.037372  136848000    0.036775   \n",
       "2 1999-02-08  0.036537  0.038209  0.036537  0.038089  154080000    0.037850   \n",
       "3 1999-02-09  0.035104  0.037492  0.034626  0.037253   86976000    0.036537   \n",
       "4 1999-02-10  0.034746  0.036059  0.034149  0.035104  148224000    0.035104   \n",
       "\n",
       "   Close_Lag2       MA5      MA10  Daily_Return_Pct  Volatility  Volume_Change  \n",
       "0    0.034149  0.035820  0.037289          5.478617    0.002866    106800000.0  \n",
       "1    0.034865  0.036131  0.037313          2.922367    0.001791    -45072000.0  \n",
       "2    0.036775  0.036035  0.036811         -3.469341    0.001672     17232000.0  \n",
       "3    0.037850  0.036226  0.036489         -3.922758    0.002866    -67104000.0  \n",
       "4    0.036537  0.036202  0.036143         -1.018764    0.001910     61248000.0  "
      ]
     },
     "execution_count": 97,
     "metadata": {},
     "output_type": "execute_result"
    }
   ],
   "source": [
    "df_clean.head()"
   ]
  },
  {
   "cell_type": "code",
   "execution_count": 136,
   "metadata": {},
   "outputs": [],
   "source": [
    "X = df_clean.drop(columns=['Date', 'Target_Close_Next_Day', 'Close'])\n",
    "y = df_clean['Target_Close_Next_Day']\n",
    "\n",
    "X_train, X_test, y_train, y_test = train_test_split(X, y, test_size=0.2, shuffle=False)\n",
    "\n",
    "scaler = StandardScaler()\n",
    "X_train_scaled = scaler.fit_transform(X_train)\n",
    "X_test_scaled = scaler.transform(X_test)"
   ]
  },
  {
   "cell_type": "markdown",
   "metadata": {},
   "source": [
    "# Modeling\n",
    "\n",
    "We now train and compare multiple regression models to predict NVIDIA’s closing stock price:\n",
    "\n",
    "- **Linear Regression**\n",
    "- **Decision Tree Regressor**\n",
    "- **Support Vector Regressor (SVR)**\n",
    "\n",
    "Each model is trained using the preprocessed features, and performance is evaluated using appropriate regression metrics:\n",
    "\n",
    "- **RMSE** (Root Mean Squared Error)\n",
    "- **MAE** (Mean Absolute Error)\n",
    "- **R² score**\n",
    "\n",
    "The goal is to assess both prediction accuracy and model interpretability for potential financial use.\n"
   ]
  },
  {
   "cell_type": "code",
   "execution_count": 145,
   "metadata": {},
   "outputs": [
    {
     "name": "stdout",
     "output_type": "stream",
     "text": [
      "5301 5301\n",
      "1326 1326\n",
      "5301 1326\n"
     ]
    }
   ],
   "source": [
    "print(len(X_train), len(X_train_scaled))\n",
    "print(len(X_test), len(X_test_scaled))\n",
    "print(len(y_train), len(y_test))"
   ]
  },
  {
   "cell_type": "code",
   "execution_count": 146,
   "metadata": {},
   "outputs": [
    {
     "name": "stdout",
     "output_type": "stream",
     "text": [
      "X_train: 0 → 5300\n",
      "y_train: 0 → 5300\n",
      "X_test: 5301 → 6626\n",
      "y_test: 5301 → 6626\n",
      "       Lag1  Target_Close_Next_Day\n",
      "0  6.726965               6.622849\n",
      "1  6.885383               7.086640\n",
      "2  6.622849               6.807169\n",
      "3  7.086640               6.626585\n",
      "4  6.807169               6.113478\n",
      "5  6.626585               6.503041\n",
      "6  6.113478               6.139132\n",
      "7  6.503041               5.387900\n",
      "8  6.139132               5.998899\n",
      "9  5.387900               4.891976\n"
     ]
    }
   ],
   "source": [
    "# Vérifie l'alignement des indices\n",
    "print(\"X_train:\", X_train.index.min(), \"→\", X_train.index.max())\n",
    "print(\"y_train:\", y_train.index.min(), \"→\", y_train.index.max())\n",
    "print(\"X_test:\", X_test.index.min(), \"→\", X_test.index.max())\n",
    "print(\"y_test:\", y_test.index.min(), \"→\", y_test.index.max())\n",
    "\n",
    "# Vérifie si le y_test est bien le \"next day\" de Close_Lag1\n",
    "import pandas as pd\n",
    "check_df = pd.DataFrame({\n",
    "    'Lag1': X_test['Close_Lag1'].values,\n",
    "    'Target_Close_Next_Day': y_test.values\n",
    "})\n",
    "\n",
    "print(check_df.head(10))"
   ]
  },
  {
   "cell_type": "code",
   "execution_count": 137,
   "metadata": {},
   "outputs": [
    {
     "name": "stdout",
     "output_type": "stream",
     "text": [
      "Linear Regression - RMSE: 2.2590, MAE: 1.2011, R²: 0.9973\n"
     ]
    }
   ],
   "source": [
    "from sklearn.linear_model import LogisticRegression\n",
    "from sklearn.metrics import accuracy_score, classification_report, confusion_matrix\n",
    "\n",
    "# Entraînement\n",
    "lr_clf = LogisticRegression()\n",
    "lr_clf.fit(X_train_scaled, y_train)\n",
    "\n",
    "# Prédiction\n",
    "y_pred_lr = lr_clf.predict(X_test_scaled)\n",
    "\n",
    "# Évaluation\n",
    "print(\"Logistic Regression:\")\n",
    "print(\"Accuracy:\", accuracy_score(y_test, y_pred_lr))\n",
    "print(classification_report(y_test, y_pred_lr))\n",
    "sns.heatmap(confusion_matrix(y_test, y_pred_lr), annot=True, fmt=\"d\", cmap=\"Blues\")\n",
    "plt.title(\"Confusion Matrix - Logistic Regression\")\n",
    "plt.show()\n"
   ]
  },
  {
   "cell_type": "code",
   "execution_count": 144,
   "metadata": {},
   "outputs": [
    {
     "name": "stdout",
     "output_type": "stream",
     "text": [
      "Decision Tree (unscaled) - RMSE: 58.5898, MAE: 39.1597, R²: -0.8046\n"
     ]
    }
   ],
   "source": [
    "dt_model = DecisionTreeRegressor(max_depth=5, min_samples_split=10, random_state=42)\n",
    "dt_model.fit(X_train, y_train)\n",
    "\n",
    "y_pred_dt = dt_model.predict(X_test)\n",
    "\n",
    "rmse_dt = np.sqrt(mean_squared_error(y_test, y_pred_dt))\n",
    "mae_dt = mean_absolute_error(y_test, y_pred_dt)\n",
    "r2_dt = r2_score(y_test, y_pred_dt)\n",
    "\n",
    "print(f\"Decision Tree (unscaled) - RMSE: {rmse_dt:.4f}, MAE: {mae_dt:.4f}, R²: {r2_dt:.4f}\")"
   ]
  },
  {
   "cell_type": "code",
   "execution_count": 141,
   "metadata": {},
   "outputs": [
    {
     "name": "stdout",
     "output_type": "stream",
     "text": [
      "SVR - RMSE: 61.9898, MAE: 43.8408, R²: -1.0201\n"
     ]
    }
   ],
   "source": [
    "svr_model = SVR(C=100, epsilon=0.1)\n",
    "svr_model.fit(X_train_scaled, y_train)\n",
    "\n",
    "y_pred_svr = svr_model.predict(X_test_scaled)\n",
    "\n",
    "rmse_svr = np.sqrt(mean_squared_error(y_test, y_pred_svr))\n",
    "mae_svr = mean_absolute_error(y_test, y_pred_svr)\n",
    "r2_svr = r2_score(y_test, y_pred_svr)\n",
    "\n",
    "print(f\"SVR - RMSE: {rmse_svr:.4f}, MAE: {mae_svr:.4f}, R²: {r2_svr:.4f}\")"
   ]
  },
  {
   "cell_type": "code",
   "execution_count": 142,
   "metadata": {},
   "outputs": [
    {
     "data": {
      "text/html": [
       "<div>\n",
       "<style scoped>\n",
       "    .dataframe tbody tr th:only-of-type {\n",
       "        vertical-align: middle;\n",
       "    }\n",
       "\n",
       "    .dataframe tbody tr th {\n",
       "        vertical-align: top;\n",
       "    }\n",
       "\n",
       "    .dataframe thead th {\n",
       "        text-align: right;\n",
       "    }\n",
       "</style>\n",
       "<table border=\"1\" class=\"dataframe\">\n",
       "  <thead>\n",
       "    <tr style=\"text-align: right;\">\n",
       "      <th></th>\n",
       "      <th>Model</th>\n",
       "      <th>RMSE</th>\n",
       "      <th>MAE</th>\n",
       "      <th>R²</th>\n",
       "    </tr>\n",
       "  </thead>\n",
       "  <tbody>\n",
       "    <tr>\n",
       "      <th>0</th>\n",
       "      <td>Linear Regression</td>\n",
       "      <td>0.697591</td>\n",
       "      <td>0.396729</td>\n",
       "      <td>0.999744</td>\n",
       "    </tr>\n",
       "    <tr>\n",
       "      <th>1</th>\n",
       "      <td>Decision Tree</td>\n",
       "      <td>58.589834</td>\n",
       "      <td>39.159730</td>\n",
       "      <td>-0.804557</td>\n",
       "    </tr>\n",
       "    <tr>\n",
       "      <th>2</th>\n",
       "      <td>SVR</td>\n",
       "      <td>61.989787</td>\n",
       "      <td>43.840805</td>\n",
       "      <td>-1.020070</td>\n",
       "    </tr>\n",
       "  </tbody>\n",
       "</table>\n",
       "</div>"
      ],
      "text/plain": [
       "               Model       RMSE        MAE        R²\n",
       "0  Linear Regression   0.697591   0.396729  0.999744\n",
       "1      Decision Tree  58.589834  39.159730 -0.804557\n",
       "2                SVR  61.989787  43.840805 -1.020070"
      ]
     },
     "execution_count": 142,
     "metadata": {},
     "output_type": "execute_result"
    }
   ],
   "source": [
    "results = pd.DataFrame({\n",
    "    'Model': ['Linear Regression', 'Decision Tree', 'SVR'],\n",
    "    'RMSE': [rmse, rmse_dt, rmse_svr],\n",
    "    'MAE': [mae, mae_dt, mae_svr],\n",
    "    'R²': [r2, r2_dt, r2_svr]\n",
    "})\n",
    "\n",
    "# Affichage du tableau trié par RMSE croissant\n",
    "results.sort_values(by='RMSE', ascending=True).reset_index(drop=True)"
   ]
  },
  {
   "cell_type": "code",
   "execution_count": 143,
   "metadata": {},
   "outputs": [
    {
     "data": {
      "image/png": "[encoded data removed]",
      "text/plain": [
       "<Figure size 1800x500 with 3 Axes>"
      ]
     },
     "metadata": {},
     "output_type": "display_data"
    }
   ],
   "source": [
    "comparison_df = pd.DataFrame({\n",
    "    'True': y_test.values,\n",
    "    'Linear Regression': y_pred_lr,\n",
    "    'Decision Tree': y_pred_dt,\n",
    "    'SVR': y_pred_svr\n",
    "})\n",
    "\n",
    "fig, axs = plt.subplots(1, 3, figsize=(18, 5))\n",
    "models = ['Linear Regression', 'Decision Tree', 'SVR']\n",
    "colors = ['#8E44AD', '#2980B9', '#27AE60']\n",
    "\n",
    "for i, model in enumerate(models):\n",
    "    axs[i].plot(comparison_df['True'], label='True', color='black')\n",
    "    axs[i].plot(comparison_df[model], label=model, color=colors[i], alpha=0.8)\n",
    "    axs[i].set_title(f'{model} Predictions vs True', fontsize=14, weight='bold')\n",
    "    axs[i].legend()\n",
    "    axs[i].set_xlabel('Sample Index')\n",
    "    axs[i].set_ylabel('Closing Price')\n",
    "\n",
    "plt.tight_layout()\n",
    "plt.show()"
   ]
  },
  {
   "cell_type": "code",
   "execution_count": 133,
   "metadata": {},
   "outputs": [
    {
     "name": "stdout",
     "output_type": "stream",
     "text": [
      "XGBoost - RMSE: 58.9002, MAE: 39.5262, R²: -0.8222\n"
     ]
    }
   ],
   "source": [
    "xgb_model = XGBRegressor(n_estimators=100, max_depth=5, learning_rate=0.1, random_state=42)\n",
    "xgb_model.fit(X_train, y_train)  # pas besoin de scaling ici\n",
    "\n",
    "y_pred_xgb = xgb_model.predict(X_test)\n",
    "\n",
    "rmse_xgb = np.sqrt(mean_squared_error(y_test, y_pred_xgb))\n",
    "mae_xgb = mean_absolute_error(y_test, y_pred_xgb)\n",
    "r2_xgb = r2_score(y_test, y_pred_xgb)\n",
    "\n",
    "print(f\"XGBoost - RMSE: {rmse_xgb:.4f}, MAE: {mae_xgb:.4f}, R²: {r2_xgb:.4f}\")"
   ]
  },
  {
   "cell_type": "markdown",
   "metadata": {
    "jp-MarkdownHeadingCollapsed": true
   },
   "source": [
    "# Final Analysis & Ethical Considerations"
   ]
  },
  {
   "cell_type": "markdown",
   "metadata": {},
   "source": [
    "## Performance Summary\n",
    "\n",
    "After comparing three different regression models on NVIDIA stock data:\n",
    "\n",
    "- **Decision Tree** performed slightly better in terms of RMSE and MAE, suggesting it adapted well to non-linear patterns in the time series.\n",
    "- **Linear Regression** had competitive results, offering high interpretability but possibly underfitting subtle trends.\n",
    "- **SVR** was consistent but slightly less accurate without fine-tuning.\n",
    "\n",
    "Visual comparisons confirmed these trends and make the results easy to communicate."
   ]
  },
  {
   "cell_type": "markdown",
   "metadata": {},
   "source": [
    "## Interpretation & Business Value\n",
    "\n",
    "While predictive models can help in identifying trends or supporting investment strategies, they:\n",
    "- Should not be used in isolation for financial decisions\n",
    "- Require constant retraining with updated data\n",
    "- Must account for market volatility and external factors (e.g., macroeconomic shifts, company announcements)"
   ]
  },
  {
   "cell_type": "markdown",
   "metadata": {},
   "source": [
    "## Ethical & Practical Concerns\n",
    "\n",
    "- **Data bias**: Historical price behavior doesn’t account for unexpected future events (\"black swans\")\n",
    "- **Misuse risk**: Non-experts may rely too heavily on predictions without understanding their limitations\n",
    "- **Legal implications**: In a real-world application, financial forecasts may fall under regulatory frameworks (e.g., SEC compliance)\n",
    "\n",
    "Thus, these models are best used as decision **aids**, not decision **makers**."
   ]
  }
 ],
 "metadata": {
  "kernelspec": {
   "display_name": "Python 3 (ipykernel)",
   "language": "python",
   "name": "python3"
  },
  "language_info": {
   "codemirror_mode": {
    "name": "ipython",
    "version": 3
   },
   "file_extension": ".py",
   "mimetype": "text/x-python",
   "name": "python",
   "nbconvert_exporter": "python",
   "pygments_lexer": "ipython3",
   "version": "3.11.5"
  }
 },
 "nbformat": 4,
 "nbformat_minor": 4
}
